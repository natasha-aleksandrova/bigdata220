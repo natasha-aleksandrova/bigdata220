{
 "cells": [
  {
   "cell_type": "markdown",
   "metadata": {},
   "source": [
    "### Create RDD from all of the mail directory files"
   ]
  },
  {
   "cell_type": "code",
   "execution_count": 2,
   "metadata": {},
   "outputs": [
    {
     "name": "stdout",
     "output_type": "stream",
     "text": [
      "22261\n"
     ]
    }
   ],
   "source": [
    "rdd = sc.wholeTextFiles(\"hdfs://sandbox.hortonworks.com:8020/course2/maildir_sample/*/*/*\")\n",
    "print(rdd.count())\n"
   ]
  },
  {
   "cell_type": "code",
   "execution_count": 3,
   "metadata": {},
   "outputs": [
    {
     "name": "stdout",
     "output_type": "stream",
     "text": [
      "+--------------------+--------------------+--------------------+--------------------+--------------------+\n",
      "|           messageId|             dateStr|           fromAddrs|             toAddrs|                 raw|\n",
      "+--------------------+--------------------+--------------------+--------------------+--------------------+\n",
      "|<18782981.1075855...|Mon, 14 May 2001 ...|phillip.allen@enr...|tim.belden@enron....|Message-ID: <1878...|\n",
      "|<15464986.1075855...|Fri, 4 May 2001 1...|phillip.allen@enr...|john.lavorato@enr...|Message-ID: <1546...|\n",
      "|<24216240.1075855...|Wed, 18 Oct 2000 ...|phillip.allen@enr...|leah.arsdall@enro...|Message-ID: <2421...|\n",
      "|<13505866.1075863...|Mon, 23 Oct 2000 ...|phillip.allen@enr...|randall.gay@enron...|Message-ID: <1350...|\n",
      "|<30922949.1075863...|Thu, 31 Aug 2000 ...|phillip.allen@enr...|greg.piper@enron.com|Message-ID: <3092...|\n",
      "|<30965995.1075863...|Thu, 31 Aug 2000 ...|phillip.allen@enr...|greg.piper@enron.com|Message-ID: <3096...|\n",
      "|<16254169.1075863...|Tue, 22 Aug 2000 ...|phillip.allen@enr...|david.l.johnson@e...|Message-ID: <1625...|\n",
      "|<17189699.1075863...|Fri, 14 Jul 2000 ...|phillip.allen@enr...|joyce.teixeira@en...|Message-ID: <1718...|\n",
      "|<20641191.1075855...|Tue, 17 Oct 2000 ...|phillip.allen@enr...|mark.scott@enron.com|Message-ID: <2064...|\n",
      "|<30795301.1075855...|Mon, 16 Oct 2000 ...|phillip.allen@enr...|     zimam@enron.com|Message-ID: <3079...|\n",
      "|<33076797.1075855...|Mon, 16 Oct 2000 ...|phillip.allen@enr...|buck.buckner@hone...|Message-ID: <3307...|\n",
      "|<25459584.1075855...|Fri, 13 Oct 2000 ...|phillip.allen@enr...|stagecoachmama@ho...|Message-ID: <2545...|\n",
      "|<13116875.1075855...|Mon, 9 Oct 2000 0...|phillip.allen@enr...|keith.holst@enron...|Message-ID: <1311...|\n",
      "|<2707340.10758556...|Mon, 9 Oct 2000 0...|phillip.allen@enr...|keith.holst@enron...|Message-ID: <2707...|\n",
      "|<2465689.10758556...|Thu, 5 Oct 2000 0...|phillip.allen@enr...|david.delainey@en...|Message-ID: <2465...|\n",
      "|<1115198.10758556...|Thu, 5 Oct 2000 0...|phillip.allen@enr...|paula.harris@enro...|Message-ID: <1115...|\n",
      "|<19773657.1075855...|Wed, 4 Oct 2000 0...|phillip.allen@enr...|ina.rangel@enron.com|Message-ID: <1977...|\n",
      "|<7391389.10758553...|Fri, 4 May 2001 1...|phillip.allen@enr...|tim.heizenrader@e...|Message-ID: <7391...|\n",
      "|<12759088.1075855...|Tue, 3 Oct 2000 0...|phillip.allen@enr...|pallen70@hotmail.com|Message-ID: <1275...|\n",
      "|<29177675.1075855...|Tue, 3 Oct 2000 0...|phillip.allen@enr...|ina.rangel@enron.com|Message-ID: <2917...|\n",
      "+--------------------+--------------------+--------------------+--------------------+--------------------+\n",
      "only showing top 20 rows\n",
      "\n"
     ]
    }
   ],
   "source": [
    "import re\n",
    "import time\n",
    "\n",
    "def extract_fields(mail_ref):\n",
    "    mail_str = mail_ref[1]\n",
    "    \n",
    "    header_data = mail_str.split(\"\\n\\n\", 1)[0]\n",
    "    \n",
    "    values = []                    \n",
    "    start_matching = False         \n",
    "    val = \"\"                       \n",
    "    \n",
    "    header_value_map = {}\n",
    "    header = None\n",
    "    pattern = r\"[^\\s:]+:\\s\"\n",
    "    \n",
    "    for line in header_data.split(\"\\n\"):  \n",
    "        line = line.strip()\n",
    "\n",
    "        if re.match(pattern, line): \n",
    "\n",
    "            start_matching = True   \n",
    "            if val:                 \n",
    "                values.append(val)  \n",
    "                header_value_map[header] = val\n",
    "                val = \"\"            \n",
    "\n",
    "            val += re.sub(pattern, \"\", line) \n",
    "        else:\n",
    "            if start_matching:      \n",
    "                val += \"{}\\n\".format(line) \n",
    "\n",
    "        found_header = re.findall(pattern,  line)\n",
    "        if found_header:\n",
    "            header = found_header[0].strip().rstrip(\":\")\n",
    "            \n",
    "    return (header_value_map[\"Message-ID\"], header_value_map[\"Date\"], \n",
    "            header_value_map[\"From\"], header_value_map.get(\"To\"), mail_str)\n",
    "    \n",
    "extractedRdd = rdd.map(extract_fields)\n",
    "\n",
    "df = sqlContext.createDataFrame(extractedRdd, ['messageId', 'dateStr', 'fromAddrs', 'toAddrs', 'raw'])\n",
    "df.show()\n",
    "\n",
    "\n",
    "df.write.csv('hdfs://sandbox.hortonworks.com:8020/course2/enron_emails_%s.csv' % int(time.time()))"
   ]
  },
  {
   "cell_type": "markdown",
   "metadata": {},
   "source": [
    "### Store dataframe in HIVE"
   ]
  },
  {
   "cell_type": "code",
   "execution_count": 5,
   "metadata": {},
   "outputs": [
    {
     "data": {
      "text/plain": [
       "DataFrame[]"
      ]
     },
     "execution_count": 5,
     "metadata": {},
     "output_type": "execute_result"
    }
   ],
   "source": [
    "# the create below didn't store the data properly \n",
    "# sqlContext.sql(\"create table enron_emails as select * from enron_emails_tmp\");\n",
    "# so I ran manual SQL to create HIVE tablet then do insert here\n",
    "\"\"\"\n",
    "CREATE EXTERNAL TABLE enron_email(\n",
    "        messageID STRING, \n",
    "        dateStr STRING,\n",
    "        fromAddrs STRING,\n",
    "        toAddrs STRING,\n",
    "        raw STRING)\n",
    "    COMMENT 'Email data dump'\n",
    "    ROW FORMAT DELIMITED\n",
    "    FIELDS TERMINATED BY ','\n",
    "    STORED AS ORC;\n",
    "\"\"\"\n",
    "df.createOrReplaceTempView(\"enron_emails_tmp\") \n",
    "\n",
    "sqlContext.sql(\"insert into table enron_email select * from enron_emails_tmp\")"
   ]
  },
  {
   "cell_type": "code",
   "execution_count": null,
   "metadata": {
    "collapsed": true
   },
   "outputs": [],
   "source": []
  }
 ],
 "metadata": {
  "kernelspec": {
   "display_name": "Python 3",
   "language": "python",
   "name": "python3"
  }
 },
 "nbformat": 4,
 "nbformat_minor": 2
}
