{
 "cells": [
  {
   "cell_type": "markdown",
   "metadata": {},
   "source": [
    "# Sqoop Command\n",
    "\n",
    "command:\n",
    "sqoop --options-file /root/sq_options.txt\n",
    "\n",
    "\n",
    "contents of sq_options.txt:\n"
   ]
  },
  {
   "cell_type": "code",
   "execution_count": null,
   "metadata": {
    "collapsed": true
   },
   "outputs": [],
   "source": [
    "import\n",
    "\n",
    "--connect\n",
    "jdbc:sqlserver://bigdata220w18.database.windows.net:1433;database=week3\n",
    "\n",
    "--username\n",
    "bigdata\n",
    "\n",
    "--password\n",
    "5Zgv\\6;8rM\n",
    "\n",
    "--compress\n",
    "\n",
    "--compression-codec\n",
    "snappy \n",
    "\n",
    "--as-parquetfile \n",
    "\n",
    "--target-dir \n",
    "/sqoop/wk3_hw_denormal_data \n",
    "\n",
    "--num-mappers\n",
    "1\n",
    "\n",
    "--query\n",
    "select \\\n",
    "\ttransaction_data.household_key, \\\n",
    "\thomeowner_desc, \\\n",
    "\tday, \\\n",
    "\tbasket_id, \\\n",
    "\tsales_value \\  \n",
    "from hh_demographic \\\n",
    "join transaction_data \\\n",
    "\ton transaction_data.household_key = hh_demographic.household_key \\\n",
    "join product \\\n",
    "\ton product.product_id = transaction_data.product_id \\\n",
    "WHERE $CONDITIONS"
   ]
  },
  {
   "cell_type": "markdown",
   "metadata": {},
   "source": [
    "# Load Parquet File"
   ]
  },
  {
   "cell_type": "code",
   "execution_count": 1,
   "metadata": {},
   "outputs": [
    {
     "name": "stdout",
     "output_type": "stream",
     "text": [
      "+-------------+--------------+---+-----------+-----------+\n",
      "|household_key|homeowner_desc|day|  basket_id|sales_value|\n",
      "+-------------+--------------+---+-----------+-----------+\n",
      "|         1364|     Homeowner|  1|26984896261|       2.19|\n",
      "|         1364|     Homeowner|  1|26984896261|       2.99|\n",
      "|         1364|     Homeowner|  1|26984896261|       3.09|\n",
      "|         1364|     Homeowner|  1|26984896261|        2.5|\n",
      "|         1364|     Homeowner|  1|26984896261|        0.6|\n",
      "|         1130|        Renter|  1|26984905972|       0.34|\n",
      "|         1130|        Renter|  1|26984905972|       0.34|\n",
      "|         1130|        Renter|  1|26984905972|       0.34|\n",
      "|         1130|        Renter|  1|26984905972|       1.19|\n",
      "|         1130|        Renter|  1|26984905972|       0.34|\n",
      "|           98|       Unknown|  1|26984951769|        0.9|\n",
      "|           98|       Unknown|  1|26984951769|        3.0|\n",
      "|           98|       Unknown|  1|26984951769|       1.25|\n",
      "|           98|       Unknown|  1|26984951769|       0.39|\n",
      "|           98|       Unknown|  1|26984951769|       0.25|\n",
      "|         1172|       Unknown|  1|26985025264|       2.29|\n",
      "|         1172|       Unknown|  1|26985025264|        2.0|\n",
      "|         1172|       Unknown|  1|26985025264|        2.0|\n",
      "|         1172|       Unknown|  1|26985025264|       3.59|\n",
      "|         1172|       Unknown|  1|26985025264|       0.79|\n",
      "+-------------+--------------+---+-----------+-----------+\n",
      "only showing top 20 rows\n",
      "\n"
     ]
    }
   ],
   "source": [
    "df = sqlContext.read.parquet(\"hdfs://sandbox.hortonworks.com:8020/sqoop/wk3_hw_denormal_data/*\")\n",
    "df.show()"
   ]
  },
  {
   "cell_type": "markdown",
   "metadata": {},
   "source": [
    "# Run Queries\n",
    "\n",
    "## All RFM Metrics\n"
   ]
  },
  {
   "cell_type": "code",
   "execution_count": 7,
   "metadata": {},
   "outputs": [
    {
     "name": "stdout",
     "output_type": "stream",
     "text": [
      "+-------------+-------+---------+--------+\n",
      "|household_key|recency|frequency|monetary|\n",
      "+-------------+-------+---------+--------+\n",
      "|          900|    711|     1223|16450.53|\n",
      "|          762|    711|      886| 8982.79|\n",
      "|         1901|    711|      852|11462.24|\n",
      "|         1467|    711|      835| 2957.82|\n",
      "|         1228|    711|      797|14503.89|\n",
      "|          956|    711|      621|10231.93|\n",
      "|         1419|    711|      524| 7634.57|\n",
      "|          707|    711|      498|19194.42|\n",
      "|          771|    711|      497| 7990.97|\n",
      "|          631|    711|      483| 9277.72|\n",
      "|          334|    711|      466|  4827.8|\n",
      "|         1753|    711|      456| 2964.05|\n",
      "|          800|    711|      443|10426.58|\n",
      "|           19|    711|      421|11299.61|\n",
      "|         1609|    711|      412|27859.68|\n",
      "|         1166|    711|      409|12300.62|\n",
      "|           27|    711|      405| 5736.24|\n",
      "|         2194|    711|      404| 7169.78|\n",
      "|         2198|    711|      403| 7205.88|\n",
      "|         2400|    711|      391|14681.32|\n",
      "+-------------+-------+---------+--------+\n",
      "only showing top 20 rows\n",
      "\n"
     ]
    }
   ],
   "source": [
    "df.registerTempTable(\"household_transaction_product\")\n",
    "\n",
    "sql_stmt = \"\"\"\n",
    "select \n",
    "  household_key, \n",
    "  max(day) as recency,\n",
    "  count(distinct(basket_id)) as frequency,\n",
    "  round(sum(sales_value), 2) as monetary\n",
    "from household_transaction_product\n",
    "group by household_key\n",
    "order by recency desc, frequency desc, monetary desc\n",
    "\"\"\"\n",
    "\n",
    "rfm_metric_df = sqlContext.sql(sql_stmt)\n",
    "rfm_metric_df.show(20)\n",
    "\n",
    "rfm_metric_df.write.csv('hdfs://sandbox.hortonworks.com:8020/course2/rfm_metrics.csv')\n"
   ]
  },
  {
   "cell_type": "markdown",
   "metadata": {},
   "source": [
    "## Homeowners RFM Metrics"
   ]
  },
  {
   "cell_type": "code",
   "execution_count": 8,
   "metadata": {},
   "outputs": [
    {
     "name": "stdout",
     "output_type": "stream",
     "text": [
      "+-------------+-------+---------+--------+\n",
      "|household_key|recency|frequency|monetary|\n",
      "+-------------+-------+---------+--------+\n",
      "|          900|    711|     1223|16450.53|\n",
      "|         1901|    711|      852|11462.24|\n",
      "|          956|    711|      621|10231.93|\n",
      "|          707|    711|      498|19194.42|\n",
      "|          771|    711|      497| 7990.97|\n",
      "|          631|    711|      483| 9277.72|\n",
      "|          334|    711|      466|  4827.8|\n",
      "|         1753|    711|      456| 2964.05|\n",
      "|          800|    711|      443|10426.58|\n",
      "|         1609|    711|      412|27859.68|\n",
      "|         1166|    711|      409|12300.62|\n",
      "|         2194|    711|      404| 7169.78|\n",
      "|         2400|    711|      391|14681.32|\n",
      "|         1229|    711|      385|18304.31|\n",
      "|          906|    711|      382| 7048.71|\n",
      "|         1823|    711|      377|12268.85|\n",
      "|          358|    711|      371|12729.34|\n",
      "|         2334|    711|      361|11955.38|\n",
      "|         2085|    711|      359|12894.57|\n",
      "|         2252|    711|      346| 9489.82|\n",
      "+-------------+-------+---------+--------+\n",
      "only showing top 20 rows\n",
      "\n"
     ]
    }
   ],
   "source": [
    "sql_stmt = \"\"\"\n",
    "select \n",
    "  household_key, \n",
    "  max(day) as recency,\n",
    "  count(distinct(basket_id)) as frequency,\n",
    "  round(sum(sales_value), 2) as monetary\n",
    "from household_transaction_product\n",
    "where lower(homeowner_desc) = 'homeowner'\n",
    "group by household_key\n",
    "order by recency desc, frequency desc, monetary desc\n",
    "\"\"\"\n",
    "\n",
    "rfm_metric_df = sqlContext.sql(sql_stmt)\n",
    "rfm_metric_df.show(20)\n",
    "\n",
    "rfm_metric_df.write.csv('hdfs://sandbox.hortonworks.com:8020/course2/rfm_metrics_homeowners.csv')"
   ]
  }
 ],
 "metadata": {
  "kernelspec": {
   "display_name": "Python 3",
   "language": "python",
   "name": "python3"
  },
  "language_info": {
   "codemirror_mode": {
    "name": "ipython",
    "version": 3
   },
   "file_extension": ".py",
   "mimetype": "text/x-python",
   "name": "python",
   "nbconvert_exporter": "python",
   "pygments_lexer": "ipython3",
   "version": "3.6.3"
  }
 },
 "nbformat": 4,
 "nbformat_minor": 2
}
